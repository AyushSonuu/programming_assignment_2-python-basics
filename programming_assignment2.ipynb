{
  "nbformat": 4,
  "nbformat_minor": 0,
  "metadata": {
    "colab": {
      "provenance": [],
      "collapsed_sections": [],
      "authorship_tag": "ABX9TyPf+Pl+dR78hrjXVXwGYhQw",
      "include_colab_link": true
    },
    "kernelspec": {
      "name": "python3",
      "display_name": "Python 3"
    },
    "language_info": {
      "name": "python"
    }
  },
  "cells": [
    {
      "cell_type": "markdown",
      "metadata": {
        "id": "view-in-github",
        "colab_type": "text"
      },
      "source": [
        "<a href=\"https://colab.research.google.com/github/AyushSonuu/programming_assignment_2-python-basics/blob/main/programming_assignment2.ipynb\" target=\"_parent\"><img src=\"https://colab.research.google.com/assets/colab-badge.svg\" alt=\"Open In Colab\"/></a>"
      ]
    },
    {
      "cell_type": "markdown",
      "source": [
        "1. Write a Python program to convert kilometers to miles?"
      ],
      "metadata": {
        "id": "VDq1_NSWBmNl"
      }
    },
    {
      "cell_type": "code",
      "execution_count": 1,
      "metadata": {
        "colab": {
          "base_uri": "https://localhost:8080/"
        },
        "id": "rH0xuADtBTZ3",
        "outputId": "9bae1a17-1e5b-473f-f678-8c9fffa8fbe3"
      },
      "outputs": [
        {
          "output_type": "stream",
          "name": "stdout",
          "text": [
            "enter the value in KM to convert into miles10\n",
            "10KM is equals to 6.21371 miles\n"
          ]
        }
      ],
      "source": [
        "inp = int(input(\"enter the value in KM to convert into miles\"))\n",
        "unitkm = 0.621371\n",
        "dist_in_miles = unitkm * inp\n",
        "print(f\"{inp}KM is equals to {dist_in_miles} miles\")\n"
      ]
    },
    {
      "cell_type": "markdown",
      "source": [
        "2. Write a Python program to convert Celsius to Fahrenheit?"
      ],
      "metadata": {
        "id": "I7-W8Ir1CfTi"
      }
    },
    {
      "cell_type": "code",
      "source": [
        "celsius = float(input(\"Enter temperature in celsius: \")) \n",
        "fahrenheit = (celsius * 1.8) + 32 \n",
        "print(str(celsius )+ \" degree Celsius is equal to \" + str(fahrenheit )+ \" degree Fahrenheit. \")"
      ],
      "metadata": {
        "colab": {
          "base_uri": "https://localhost:8080/"
        },
        "id": "-7DN0FZlCgRr",
        "outputId": "d7ca60e9-4b63-471f-8cb2-ef2d1cd7bbf3"
      },
      "execution_count": 2,
      "outputs": [
        {
          "output_type": "stream",
          "name": "stdout",
          "text": [
            "Enter temperature in celsius: 25\n",
            "25.0 degree Celsius is equal to 77.0 degree Fahrenheit. \n"
          ]
        }
      ]
    },
    {
      "cell_type": "markdown",
      "source": [
        "3. Write a Python program to display calendar?"
      ],
      "metadata": {
        "id": "bO0vFm83C4aY"
      }
    },
    {
      "cell_type": "code",
      "source": [
        "import calendar \n",
        "yyyy = int(input(\"Enter year: \"))\n",
        "mm = int(input(\"Enter month: \"))\n",
        "print(calendar.month(yyyy,mm))"
      ],
      "metadata": {
        "colab": {
          "base_uri": "https://localhost:8080/"
        },
        "id": "hrXz53OcC49m",
        "outputId": "905c7660-8b15-46e1-9cfd-5e3e7b644b92"
      },
      "execution_count": 3,
      "outputs": [
        {
          "output_type": "stream",
          "name": "stdout",
          "text": [
            "Enter year: 2014\n",
            "Enter month: 12\n",
            "   December 2014\n",
            "Mo Tu We Th Fr Sa Su\n",
            " 1  2  3  4  5  6  7\n",
            " 8  9 10 11 12 13 14\n",
            "15 16 17 18 19 20 21\n",
            "22 23 24 25 26 27 28\n",
            "29 30 31\n",
            "\n"
          ]
        }
      ]
    },
    {
      "cell_type": "markdown",
      "source": [
        "4. Write a Python program to solve quadratic equation?"
      ],
      "metadata": {
        "id": "47slz87nDeFu"
      }
    },
    {
      "cell_type": "code",
      "source": [
        "\n",
        "import cmath\n",
        "\n",
        "a = int(input(\"enter the coefficient of x**2\"))\n",
        "b = int(input(\"enter the coefficient of x\"))\n",
        "c = int(input(\"enter the constant\"))\n",
        "\n",
        "# calculate the discriminant\n",
        "d = (b**2) - (4*a*c)\n",
        "\n",
        "# find two solutions\n",
        "sol1 = (-b-cmath.sqrt(d))/(2*a)\n",
        "sol2 = (-b+cmath.sqrt(d))/(2*a)\n",
        "\n",
        "print('The solution are {0} and {1}'.format(sol1,sol2))"
      ],
      "metadata": {
        "colab": {
          "base_uri": "https://localhost:8080/"
        },
        "id": "KCcV6a_DDgpj",
        "outputId": "73cafad0-909e-4e21-ed07-8648a57b82c0"
      },
      "execution_count": 5,
      "outputs": [
        {
          "output_type": "stream",
          "name": "stdout",
          "text": [
            "enter the coefficient of x**21\n",
            "enter the coefficient of x2\n",
            "enter the constant3\n",
            "The solution are (-1-1.4142135623730951j) and (-1+1.4142135623730951j)\n"
          ]
        }
      ]
    },
    {
      "cell_type": "markdown",
      "source": [
        "5. Write a Python program to swap two variables without temp variable?"
      ],
      "metadata": {
        "id": "s91gzKqeEHBA"
      }
    },
    {
      "cell_type": "code",
      "source": [
        "a=10\n",
        "b=65\n",
        "a,b = b,a\n",
        "print(a,b)"
      ],
      "metadata": {
        "colab": {
          "base_uri": "https://localhost:8080/"
        },
        "id": "3LEsQwAsEJTJ",
        "outputId": "07e29c7a-41d2-4743-850a-41f925b3ced8"
      },
      "execution_count": 6,
      "outputs": [
        {
          "output_type": "stream",
          "name": "stdout",
          "text": [
            "65 10\n"
          ]
        }
      ]
    }
  ]
}